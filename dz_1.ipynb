{
 "cells": [
  {
   "cell_type": "markdown",
   "metadata": {},
   "source": [
    "## Задание 1\n",
    "Даны 2 переменных, в которых хранятся строки произвольной длины: phrase_1 и phrase_2.\n",
    "Напишите код, который проверяет какая из этих строк длиннее.\n",
    "\n",
    "Примеры работы программы:\n",
    "\n",
    "phrase_1 = 'Насколько проще было бы писать программы, если бы не заказчики’\n",
    "phrase_2 = '640Кб должно хватить для любых задач. Билл Гейтс (по легенде)'\n",
    "Результат:\n",
    "Фраза 1 длиннее фразы 2"
   ]
  },
  {
   "cell_type": "code",
   "execution_count": 10,
   "metadata": {},
   "outputs": [
    {
     "name": "stdout",
     "output_type": "stream",
     "text": [
      "Фраза 1 длиннее фразы 2\n"
     ]
    }
   ],
   "source": [
    "phrase_1 = 'Насколько проще было бы писать программы, если бы не заказчики'\n",
    "phrase_2 = '640Кб должно хватить для любых задач. Билл Гейтс (по легенде)'\n",
    "\n",
    "if phrase_1 > phrase_2:\n",
    "    print('Фраза 1 длиннее фразы 2')\n",
    "elif phrase_1 < phrase_2:\n",
    "    print('Фраза 2 длиннее фразы 1')\n",
    "elif phrase_1 == phrase_2:\n",
    "    print('Фразы равной длины')"
   ]
  },
  {
   "cell_type": "markdown",
   "metadata": {},
   "source": [
    "## Задание 2\n",
    "Дана переменная, в которой хранится четырехзначное число (год). Необходимо написать программу, которая выведет, является ли данный год високосным или обычным.\n",
    "\n",
    "Пример работы программы:\n",
    "\n",
    "year = 2020\n",
    "Результат:\n",
    "Високосный год\n",
    "\n",
    "year = 2019\n",
    "Результат:\n",
    "Обычный год\n"
   ]
  },
  {
   "cell_type": "code",
   "execution_count": 22,
   "metadata": {},
   "outputs": [
    {
     "name": "stdout",
     "output_type": "stream",
     "text": [
      "Високосный год\n"
     ]
    }
   ],
   "source": [
    "year = 2016\n",
    "if year%4==0:\n",
    "    print('Високосный год')\n",
    "else:\n",
    "    print('Обычный год')"
   ]
  },
  {
   "cell_type": "markdown",
   "metadata": {},
   "source": [
    "## Задание 3\n",
    "\n",
    "Необходимо написать программу, которая будет запрашивать у пользователя месяц и дату рождения и выводить соответствующий знак зодиака.\n",
    "\n",
    "Пример работы программы:\n",
    "\n",
    "Введите день:\n",
    "30\n",
    "\n",
    "Введите месяц:\n",
    "Август\n",
    "Результат:\n",
    "Ваш знак зодиака: Дева\n",
    "\n",
    "Введите день:\n",
    "29\n",
    "\n",
    "Введите месяц:\n",
    "Октябрь\n",
    "Результат:\n",
    "Ваш знак зодиака: Скорпион"
   ]
  },
  {
   "cell_type": "code",
   "execution_count": 17,
   "metadata": {},
   "outputs": [
    {
     "name": "stdout",
     "output_type": "stream",
     "text": [
      "Введите день 15\n",
      "Введите месяц 9\n",
      "Результат: Ваш знак зодиака: Дева\n"
     ]
    }
   ],
   "source": [
    "day = int(input('Введите день '))\n",
    "month = input('Введите месяц ')\n",
    "if (day >= 21 and day <= 31 and month == '3' or month == 'Март' or month == 'март'):\n",
    "    print('Результат:','Ваш знак зодиака: Овен')\n",
    "elif (day >= 1 and day<=19 and month == '4' or month == 'Апрель' or month == 'апрель'):\n",
    "    print('Результат:','Ваш знак зодиака: Овен')\n",
    "elif (day >= 20 and day <= 30 and month == '4' or month == 'Апрель' or month == 'апрель'):\n",
    "    print('Результат:','Ваш знак зодиака: Телец')\n",
    "elif (day >= 1 and day<=20 and month == '5' or month == 'Май' or month == 'май'):\n",
    "    print('Результат:','Ваш знак зодиака: Телец')\n",
    "elif (day >= 21 and day <= 31 and month == '5' or month == 'Май' or month == 'май'):\n",
    "    print('Результат:','Ваш знак зодиака: Близнецы')\n",
    "elif (day >= 1 and day<=20 and month == '6' or month == 'Июнь' or month == 'июнь'):\n",
    "    print('Результат:','Ваш знак зодиака: Близнецы')\n",
    "elif (day >= 21 and day <= 30 and month == '6' or month == 'Июнь' or month == 'июнь'):\n",
    "    print('Результат:','Ваш знак зодиака: Рак')\n",
    "elif (day >= 1 and day<=22 and month == '7' or month == 'Июль' or month == 'июль'):\n",
    "    print('Результат:','Ваш знак зодиака: Рак')\n",
    "elif (day >= 23 and day <= 31 and month == '7' or month == 'Июль' or month == 'июль'):\n",
    "    print('Результат:','Ваш знак зодиака: Лев')\n",
    "elif (day >= 1 and day<=22 and month == '8' or month == 'Август' or month == 'август'):\n",
    "    print('Результат:','Ваш знак зодиака: Лев')\n",
    "elif (day >= 23 and day <= 30 and month == '8' or month == 'Август' or month == 'август'):\n",
    "    print('Результат','Ваш знак зодиака: Дева')\n",
    "elif (day >= 1 and day<=22 and month == '9' or month == 'Сентябрь' or month == 'сентябрь'):\n",
    "    print('Результат:','Ваш знак зодиака: Дева')\n",
    "elif (day >= 23 and day <= 30 and month == '9' or month == 'Сентябрь' or month == 'сентябрь'):\n",
    "    print('Результат:','Ваш знак зодиака: Весы')\n",
    "elif (day >= 1 and day<=22 and month == '10' or month == 'Октябрь' or month == 'Октябрь'):\n",
    "    print('Результат:','Ваш знак зодиака: Весы')\n",
    "elif (day >= 23 and day <= 31 and month == '10' or month == 'Октябрь' or month == 'Октябрь'):\n",
    "    print('Результат:','Ваш знак зодиака: Скорпион')\n",
    "elif (day >= 1 and day<=21 and month == '11' or month == 'Ноябрь' or month == 'ноябрь'):\n",
    "    print('Результат:','Ваш знак зодиака: Скорпион')\n",
    "elif (day >= 22 and day <= 30 and month == '11' or month == 'Ноябрь' or month == 'ноябрь'):\n",
    "    print('Результат:','Ваш знак зодиака: Стрелец')\n",
    "elif (day >= 1 and day<=21 and month == '12' or month == 'Декабрь' or month == 'декабрь'):\n",
    "    print('Результат:','Ваш знак зодиака: Стрелец')\n",
    "elif (day >= 22 and day <= 31 and month == '12' or month == 'Декабрь' or month == 'декабрь'):\n",
    "    print('Результат:','Ваш знак зодиака: Козерог')\n",
    "elif (day >= 1 and day<=19 and month == '1' or month == 'Январь' or month == 'январь'):\n",
    "    print('Результат:','Ваш знак зодиака: Козерог')\n",
    "elif (day >= 20 and day <= 31 and month == '1' or month == 'Январь' or month == 'январь'):\n",
    "    print('Результат:','Ваш знак зодиака: Водолей')\n",
    "elif (day >= 1 and day<=19 and month == '2' or month == 'Февраль' or month == 'февраль'):\n",
    "    print('Результат:','Ваш знак зодиака: Водолей')\n",
    "elif (day >= 19 and day<=29 and month == '2' or month == 'Февраль' or month == 'февраль'):\n",
    "    print('Результат:','Ваш знак зодиака: Рыбы')\n",
    "elif (day >= 1 and day <= 20 and month == '3' or month == 'Март' or month == 'март'):\n",
    "    print('Результат:','Ваш знак зодиака: Рыбы')\n",
    "else:\n",
    "    print('проверьте корректность введенной информации')\n",
    "\n",
    "\n"
   ]
  },
  {
   "cell_type": "markdown",
   "metadata": {},
   "source": [
    "## Задание 4\n",
    "Вам нужно написать программу для подбора упаковок по размерам товара. Размеры хранятся в переменных (в сантиметрах):\n",
    "\n",
    "width = 10\n",
    "length = 205\n",
    "height = 5\n",
    "Используйте следующие правила:\n",
    "\n",
    "если каждое из трех измерений менее 15 сантиметров, то выведите на экран “Коробка №1”;\n",
    "если хотя бы одно из измерений больше 15 сантиметров, но менее 50 сантиметров, то выводите “Коробка №2”;\n",
    "если длина товара больше 2 метров, то выводите “Упаковка для лыж”;\n",
    "во всех остальных случаях выводите “Стандартная коробка №3”.\n",
    "\n"
   ]
  },
  {
   "cell_type": "code",
   "execution_count": 30,
   "metadata": {},
   "outputs": [
    {
     "name": "stdout",
     "output_type": "stream",
     "text": [
      "Введите ширину 15\n",
      "Введите длину 15\n",
      "Введите высоту 15\n",
      "Коробка №2\n"
     ]
    }
   ],
   "source": [
    "w = int(input('Введите ширину '))\n",
    "l = int(input('Введите длину '))\n",
    "h = int(input('Введите высоту '))\n",
    "if (w<15 and h<15 and l<15):\n",
    "    print('Коробка №1')\n",
    "elif (15<=w<50 and 15<=l<50 and 15<=h<50):\n",
    "    print('Коробка №2')\n",
    "elif l>200:\n",
    "    print('Упаковка для лыж')\n",
    "else:\n",
    "    print('Стандартная коробка №3')\n"
   ]
  },
  {
   "cell_type": "markdown",
   "metadata": {},
   "source": [
    "## Задание 5 (необязательное)\n",
    "Дана переменная, в которой хранится шестизначное число (номер проездного билета). Напишите программу, которая будет определять, является ли данный билет “счастливым”. Билет считается счастливым, если сумма первых трех цифр совпадает с суммой последних трех цифр номера.\n",
    "\n",
    "Примеры работы программы:\n",
    "\n",
    "number = 123456\n",
    "Результат:\n",
    "Неасчастливый билет\n",
    "\n",
    "number = 123321\n",
    "Результат:\n",
    "Счастливый билет"
   ]
  },
  {
   "cell_type": "code",
   "execution_count": 78,
   "metadata": {},
   "outputs": [
    {
     "name": "stdout",
     "output_type": "stream",
     "text": [
      "Введите билет  300111\n",
      "3\n",
      "0\n",
      "0\n",
      "1\n",
      "1\n",
      "1\n",
      "Ты счастливчик\n"
     ]
    }
   ],
   "source": [
    "number = input('Введите билет  ')\n",
    "print(number[0])\n",
    "print(number[1])\n",
    "print(number[2])\n",
    "print(number[3])\n",
    "print(number[4])\n",
    "print(number[5])\n",
    "a = int(number[0])\n",
    "b = int(number[1])\n",
    "c = int(number[2])\n",
    "d = int(number[3])\n",
    "e = int(number[4])\n",
    "f = int(number[5])\n",
    "if (a+b+c) == (d+e+f):\n",
    "#if sum(number[0],number[1],number[2]) == sum(number[3],number[4],number[5]):\n",
    "    print('Ты счастливчик')\n",
    "else:\n",
    "    print('Повезет в другой поездке')\n",
    "#for elem in number\n",
    "\n",
    "\n"
   ]
  },
  {
   "cell_type": "code",
   "execution_count": null,
   "metadata": {},
   "outputs": [],
   "source": []
  }
 ],
 "metadata": {
  "kernelspec": {
   "display_name": "Python 3",
   "language": "python",
   "name": "python3"
  },
  "language_info": {
   "codemirror_mode": {
    "name": "ipython",
    "version": 3
   },
   "file_extension": ".py",
   "mimetype": "text/x-python",
   "name": "python",
   "nbconvert_exporter": "python",
   "pygments_lexer": "ipython3",
   "version": "3.8.3"
  }
 },
 "nbformat": 4,
 "nbformat_minor": 4
}
